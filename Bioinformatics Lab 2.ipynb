{
 "cells": [
  {
   "cell_type": "markdown",
   "metadata": {},
   "source": [
    "# 6th Lab(20.11.2019)"
   ]
  },
  {
   "cell_type": "markdown",
   "metadata": {},
   "source": [
    "# Profile of Motifs"
   ]
  },
  {
   "cell_type": "code",
   "execution_count": 4,
   "metadata": {},
   "outputs": [
    {
     "data": {
      "text/plain": [
       "[[0.4, 0.4, 0.2, 0.2, 0.6, 0.0, 0.2, 0.4, 0.2, 0.0, 0.4, 0.0],\n",
       " [0.2, 0.2, 0.2, 0.2, 0.2, 0.2, 0.6, 0.2, 0.6, 0.8, 0.0, 0.0],\n",
       " [0.4, 0.4, 0.0, 0.4, 0.0, 0.8, 0.2, 0.4, 0.2, 0.2, 0.2, 0.6],\n",
       " [0.0, 0.0, 0.6, 0.2, 0.2, 0.0, 0.0, 0.0, 0.0, 0.0, 0.4, 0.4]]"
      ]
     },
     "execution_count": 4,
     "metadata": {},
     "output_type": "execute_result"
    }
   ],
   "source": [
    "def get_profile(motifs):\n",
    "    \n",
    "    return [[j.count(i)/len(motifs) for j in zip(*motifs)] for i in \"ACGT\"]\n",
    "    \n",
    "\n",
    "motifs=['AAATTGACGCAT', 'GACGACCACGTT', 'CGTCAGCGCCTG', \n",
    "        'GCTGAGCACCGG', 'AGTACGGGACAG']\n",
    "get_profile(motifs)"
   ]
  },
  {
   "cell_type": "markdown",
   "metadata": {},
   "source": [
    "# Count of Motifs"
   ]
  },
  {
   "cell_type": "code",
   "execution_count": 5,
   "metadata": {},
   "outputs": [
    {
     "data": {
      "text/plain": [
       "[[2, 2, 1, 1, 3, 0, 1, 2, 1, 0, 2, 0],\n",
       " [1, 1, 1, 1, 1, 1, 3, 1, 3, 4, 0, 0],\n",
       " [2, 2, 0, 2, 0, 4, 1, 2, 1, 1, 1, 3],\n",
       " [0, 0, 3, 1, 1, 0, 0, 0, 0, 0, 2, 2]]"
      ]
     },
     "execution_count": 5,
     "metadata": {},
     "output_type": "execute_result"
    }
   ],
   "source": [
    "def count_motifs(motifs):\n",
    "    \n",
    "    return [[j.count(i) for j in zip(*motifs)] for i in \"ACGT\"]\n",
    "    \n",
    "\n",
    "motifs=['AAATTGACGCAT', 'GACGACCACGTT', 'CGTCAGCGCCTG', \n",
    "        'GCTGAGCACCGG', 'AGTACGGGACAG']\n",
    "count_motifs(motifs)"
   ]
  },
  {
   "cell_type": "markdown",
   "metadata": {},
   "source": [
    "# Profile of Motifs with Pseudocount"
   ]
  },
  {
   "cell_type": "code",
   "execution_count": 6,
   "metadata": {},
   "outputs": [
    {
     "data": {
      "text/plain": [
       "[[0.3333333333333333,\n",
       "  0.3333333333333333,\n",
       "  0.2222222222222222,\n",
       "  0.2222222222222222,\n",
       "  0.4444444444444444,\n",
       "  0.1111111111111111,\n",
       "  0.2222222222222222,\n",
       "  0.3333333333333333,\n",
       "  0.2222222222222222,\n",
       "  0.1111111111111111,\n",
       "  0.3333333333333333,\n",
       "  0.1111111111111111],\n",
       " [0.2222222222222222,\n",
       "  0.2222222222222222,\n",
       "  0.2222222222222222,\n",
       "  0.2222222222222222,\n",
       "  0.2222222222222222,\n",
       "  0.2222222222222222,\n",
       "  0.4444444444444444,\n",
       "  0.2222222222222222,\n",
       "  0.4444444444444444,\n",
       "  0.5555555555555556,\n",
       "  0.1111111111111111,\n",
       "  0.1111111111111111],\n",
       " [0.3333333333333333,\n",
       "  0.3333333333333333,\n",
       "  0.1111111111111111,\n",
       "  0.3333333333333333,\n",
       "  0.1111111111111111,\n",
       "  0.5555555555555556,\n",
       "  0.2222222222222222,\n",
       "  0.3333333333333333,\n",
       "  0.2222222222222222,\n",
       "  0.2222222222222222,\n",
       "  0.2222222222222222,\n",
       "  0.4444444444444444],\n",
       " [0.1111111111111111,\n",
       "  0.1111111111111111,\n",
       "  0.4444444444444444,\n",
       "  0.2222222222222222,\n",
       "  0.2222222222222222,\n",
       "  0.1111111111111111,\n",
       "  0.1111111111111111,\n",
       "  0.1111111111111111,\n",
       "  0.1111111111111111,\n",
       "  0.1111111111111111,\n",
       "  0.3333333333333333,\n",
       "  0.3333333333333333]]"
      ]
     },
     "execution_count": 6,
     "metadata": {},
     "output_type": "execute_result"
    }
   ],
   "source": [
    "def pseudo_profile(motifs):\n",
    "    \n",
    "    return [[(j.count(i)+1)/(len(motifs)+4) for j in zip(*motifs)] for i in \"ACGT\"]\n",
    "    \n",
    "\n",
    "motifs=['AAATTGACGCAT', 'GACGACCACGTT', 'CGTCAGCGCCTG', \n",
    "        'GCTGAGCACCGG', 'AGTACGGGACAG']\n",
    "pseudo_profile(motifs)"
   ]
  },
  {
   "cell_type": "markdown",
   "metadata": {},
   "source": [
    "# PseudoCount of Motifs"
   ]
  },
  {
   "cell_type": "code",
   "execution_count": 7,
   "metadata": {},
   "outputs": [
    {
     "data": {
      "text/plain": [
       "[[3, 3, 2, 2, 4, 1, 2, 3, 2, 1, 3, 1],\n",
       " [2, 2, 2, 2, 2, 2, 4, 2, 4, 5, 1, 1],\n",
       " [3, 3, 1, 3, 1, 5, 2, 3, 2, 2, 2, 4],\n",
       " [1, 1, 4, 2, 2, 1, 1, 1, 1, 1, 3, 3]]"
      ]
     },
     "execution_count": 7,
     "metadata": {},
     "output_type": "execute_result"
    }
   ],
   "source": [
    "def pseudocount_motifs(motifs):\n",
    "    \n",
    "    return [[(j.count(i)+1) for j in zip(*motifs)] for i in \"ACGT\"]\n",
    "    \n",
    "\n",
    "motifs=['AAATTGACGCAT', 'GACGACCACGTT', 'CGTCAGCGCCTG', \n",
    "        'GCTGAGCACCGG', 'AGTACGGGACAG']\n",
    "pseudocount_motifs(motifs)"
   ]
  },
  {
   "cell_type": "markdown",
   "metadata": {},
   "source": [
    "# Score of Motifs"
   ]
  },
  {
   "cell_type": "code",
   "execution_count": 8,
   "metadata": {},
   "outputs": [
    {
     "data": {
      "text/plain": [
       "27"
      ]
     },
     "execution_count": 8,
     "metadata": {},
     "output_type": "execute_result"
    }
   ],
   "source": [
    "def Score_of_Motifs(motifs):\n",
    "    \n",
    "    arr=count_motifs(motifs)\n",
    "    score=0\n",
    "    for i in range(len(arr[0])): #col\n",
    "        max1=0\n",
    "        for j in range(len(arr)): #row\n",
    "            max1=max( max1, arr[j][i])\n",
    "        score+=((len(arr)+1)-max1)\n",
    "    return score\n",
    "    \n",
    "motifs=['AAATTGACGCAT', 'GACGACCACGTT', 'CGTCAGCGCCTG', \n",
    "        'GCTGAGCACCGG', 'AGTACGGGACAG']\n",
    "Score_of_Motifs(motifs)"
   ]
  },
  {
   "cell_type": "markdown",
   "metadata": {},
   "source": [
    "# Consensus of Motifs"
   ]
  },
  {
   "cell_type": "code",
   "execution_count": 9,
   "metadata": {},
   "outputs": [
    {
     "data": {
      "text/plain": [
       "'AATGAGCACCAG'"
      ]
     },
     "execution_count": 9,
     "metadata": {},
     "output_type": "execute_result"
    }
   ],
   "source": [
    "def consensus_string(motifs):\n",
    "    \n",
    "    arr=count_motifs(motifs)\n",
    "    consensus=''\n",
    "    len_motif=len(motifs[0])\n",
    "    for i in range(len_motif): #col\n",
    "        max1=0\n",
    "        flag=0\n",
    "        for j in range(4): #row\n",
    "            if arr[j][i]>max1:\n",
    "                flag=j\n",
    "                max1=arr[j][i]\n",
    "        if flag==0:\n",
    "            consensus+='A'\n",
    "        elif flag==1:\n",
    "            consensus+='C'\n",
    "        elif flag==2:\n",
    "            consensus+='G'\n",
    "        elif flag==3:\n",
    "            consensus+='T'\n",
    "    return consensus\n",
    "\n",
    "motifs=['AAATTGACGCAT', 'GACGACCACGTT', 'CGTCAGCGCCTG', \n",
    "        'GCTGAGCACCGG', 'AGTACGGGACAG']\n",
    "consensus_string(motifs)"
   ]
  },
  {
   "cell_type": "markdown",
   "metadata": {},
   "source": [
    "# BA2C - Find a Profile-most Probable k-mer in a String"
   ]
  },
  {
   "cell_type": "code",
   "execution_count": 10,
   "metadata": {},
   "outputs": [
    {
     "data": {
      "text/plain": [
       "'CCGAG'"
      ]
     },
     "execution_count": 10,
     "metadata": {},
     "output_type": "execute_result"
    }
   ],
   "source": [
    "def prob_kmer(dna, k, profile):\n",
    "    \n",
    "    substring=[]\n",
    "    profile_most_probable_kmer=''\n",
    "    dna_dict={'A':0, 'C':1, 'G':2, 'T':3}\n",
    "    for i in range(len(dna)-k+1):\n",
    "        substring+=[dna[i:i+k]]\n",
    "    \n",
    "    max1=0.0\n",
    "    for i in substring:\n",
    "        ans=1\n",
    "        for j in range(len(i)):\n",
    "            ans=ans*(profile[dna_dict[i[j]]][j])\n",
    "        if ans>=max1:\n",
    "            if ans==max1 and ans!=0:\n",
    "                continue\n",
    "            else:\n",
    "                profile_most_probable_kmer=i\n",
    "                max1=ans\n",
    "            \n",
    "    return profile_most_probable_kmer\n",
    "\n",
    "dna='ACCTGTTTATTGCCTAAGTTCCGAACAAACCCAATATAGCCCGAGGGCCT'\n",
    "k=5\n",
    "profile=[[0.2, 0.2, 0.3, 0.2, 0.3],\n",
    "[0.4, 0.3, 0.1, 0.5, 0.1],\n",
    "[0.3, 0.3, 0.5, 0.2, 0.4],\n",
    "[0.1, 0.2, 0.1, 0.1, 0.2]\n",
    "]\n",
    "prob_kmer(dna, k, profile)"
   ]
  },
  {
   "cell_type": "markdown",
   "metadata": {},
   "source": [
    "# 7th Lab(27.11.2019)"
   ]
  },
  {
   "cell_type": "markdown",
   "metadata": {},
   "source": [
    "# BA2D - Implement GreedyMotifSearch"
   ]
  },
  {
   "cell_type": "code",
   "execution_count": 11,
   "metadata": {},
   "outputs": [
    {
     "data": {
      "text/plain": [
       "['GCG', 'TCA', 'TCG', 'TCA', 'TCG']"
      ]
     },
     "execution_count": 11,
     "metadata": {},
     "output_type": "execute_result"
    }
   ],
   "source": [
    "def greedy_motif(dna, k, t):\n",
    "    \n",
    "    best_motifs=[]\n",
    "    motifs=[]\n",
    "    score=0\n",
    "    j=0\n",
    "    for i in dna:\n",
    "        best_motifs.append(i[j:j+k])\n",
    "    dna1=dna[0]\n",
    "    \n",
    "    for i in range(len(dna1)-k+1): # all substring of 1st dna\n",
    "        motifs.append(dna1[i:i+k]) # each substring of 1st dna\n",
    "        \n",
    "        for j in range(len(dna)): #iterate 2nd dna to last dna     \n",
    "            if j==0: # exclude 1st dna\n",
    "                continue\n",
    "\n",
    "            profile1=get_profile(motifs)\n",
    "            st=prob_kmer(dna[j], k, profile1) # find motif for each dna\n",
    "            motifs.append(st) # add motif\n",
    "            \n",
    "        if(Score_of_Motifs(motifs)<Score_of_Motifs(best_motifs)):\n",
    "             best_motifs=motifs\n",
    "        motifs=[]\n",
    "    return best_motifs\n",
    "            \n",
    "\n",
    "k=3\n",
    "t=5\n",
    "dna=['GGCGTTCAGGCA', 'AAGAATCAGTCA', 'CAAGGAGTTCGC', \n",
    "     'CACGTCAATCAC', 'CAATAATATTCG']\n",
    "greedy_motif(dna, k, t)"
   ]
  },
  {
   "cell_type": "markdown",
   "metadata": {},
   "source": [
    "# BA2F - Implement RandomizedMotifSearch"
   ]
  },
  {
   "cell_type": "code",
   "execution_count": 12,
   "metadata": {},
   "outputs": [
    {
     "data": {
      "text/plain": [
       "['TTCAGGCA', 'ATCAGTCA', 'GGAGTTCG', 'GTCAATCA', 'AATATTCG']"
      ]
     },
     "execution_count": 12,
     "metadata": {},
     "output_type": "execute_result"
    }
   ],
   "source": [
    "import random\n",
    "def randomized_motif(dna, k, t):\n",
    "    \n",
    "    best_motifs=[]\n",
    "    motifs=[]\n",
    "    score=0\n",
    "    j=0\n",
    "    for i in dna:\n",
    "        index=random.randrange(0, len(i)-k+1)\n",
    "        best_motifs.append(i[index:index+k])\n",
    "\n",
    "    for i in range(1000): # while forever\n",
    "        \n",
    "        profile1=get_profile(best_motifs)\n",
    "        motifs=[]\n",
    "        for st in dna:\n",
    "                \n",
    "            s=prob_kmer(st, k, profile1) # find motif for each dna\n",
    "            motifs.append(s) # add motif\n",
    "           \n",
    "        if(Score_of_Motifs(motifs)<Score_of_Motifs(best_motifs)):\n",
    "             best_motifs=motifs\n",
    "        \n",
    "    return best_motifs\n",
    "            \n",
    "\n",
    "k=8\n",
    "t=5\n",
    "dna=['GGCGTTCAGGCA', 'AAGAATCAGTCA', 'CAAGGAGTTCGC', \n",
    "     'CACGTCAATCAC', 'CAATAATATTCG']\n",
    "randomized_motif(dna, k, t)"
   ]
  },
  {
   "cell_type": "markdown",
   "metadata": {},
   "source": [
    "# BA2H - Implement DistanceBetweenPatternAndStrings"
   ]
  },
  {
   "cell_type": "code",
   "execution_count": 13,
   "metadata": {},
   "outputs": [
    {
     "data": {
      "text/plain": [
       "5"
      ]
     },
     "execution_count": 13,
     "metadata": {},
     "output_type": "execute_result"
    }
   ],
   "source": [
    "def hamming_distance(kmer, substring):\n",
    "    ans=0\n",
    "    for i in range(len(kmer)):\n",
    "        if kmer[i]!=substring[i]:\n",
    "            ans+=1\n",
    "    return ans\n",
    "\n",
    "def ImplementDistanceBetweenPatternAndStrings(kmer, dna):\n",
    "    \n",
    "    k=len(kmer)\n",
    "    ans=0\n",
    "    \n",
    "    for st in dna:\n",
    "        min1=100000000\n",
    "        \n",
    "        for i in range(len(st)-k+1):\n",
    "            substring=st[i:i+k]\n",
    "            ham=hamming_distance(kmer, substring)\n",
    "            if ham<min1:\n",
    "                min1=ham\n",
    "        ans=ans+min1\n",
    "    \n",
    "    return ans\n",
    "\n",
    "kmer='AAA'\n",
    "dna=['TTACCTTAAC', 'GATATCTGTC', 'ACGGCGTTCG', 'CCCTAAAGAG', 'CGTCAGAGGT']\n",
    "ImplementDistanceBetweenPatternAndStrings(kmer, dna)"
   ]
  },
  {
   "cell_type": "markdown",
   "metadata": {},
   "source": [
    "# 8th Lab(04.11.2019)"
   ]
  },
  {
   "cell_type": "markdown",
   "metadata": {},
   "source": [
    "# BA4A - Translate an RNA String into an Amino Acid String"
   ]
  },
  {
   "cell_type": "code",
   "execution_count": 30,
   "metadata": {},
   "outputs": [
    {
     "name": "stdout",
     "output_type": "stream",
     "text": [
      "MAMAPRTEINSTRING\n"
     ]
    }
   ],
   "source": [
    "def rna_to_amino_acid(rna):\n",
    "    \n",
    "    st=[]\n",
    "    for i in range(0, len(rna)-1, 3):\n",
    "        if(codon[rna[i:i+3]]=='Stop'):\n",
    "            continue\n",
    "        st.append(codon[rna[i:i+3]])\n",
    "        \n",
    "    print(''.join(st))\n",
    "    \n",
    "with open('rna_codons.txt') as f:\n",
    "    table=f.read().split()\n",
    "    codon=dict(zip(table[::2], table[1::2]))\n",
    "    \n",
    "rna='AUGGCCAUGGCGCCCAGAACUGAGAUCAAUAGUACCCGUAUUAACGGGUGA'\n",
    "rna_to_amino_acid(rna)"
   ]
  },
  {
   "cell_type": "markdown",
   "metadata": {},
   "source": [
    "# BA4B - Find Substrings of a Genome Encoding a Given Amino Acid String"
   ]
  },
  {
   "cell_type": "code",
   "execution_count": 67,
   "metadata": {},
   "outputs": [
    {
     "name": "stdout",
     "output_type": "stream",
     "text": [
      "ATGGCC\n",
      "GGCCAT\n",
      "ATGGCC\n"
     ]
    }
   ],
   "source": [
    "def reverse_complement(dna):\n",
    "    \n",
    "    dict={'A':'T', 'T':'A', 'C':'G', 'G':'C'}\n",
    "    s=''\n",
    "    st=dna[::-1]\n",
    "    \n",
    "    for i in st:\n",
    "        s+=''.join(dict[i])\n",
    "    \n",
    "    return s\n",
    "\n",
    "def check(dna, pep):\n",
    "    \n",
    "    st=''\n",
    "    for i in range(0, len(dna)-1, 3):\n",
    "        st+=''.join(codon[dna[i:i+3]])\n",
    "    \n",
    "    return st==pep\n",
    "    \n",
    "def dna_to_amino_acid(dna, pep):\n",
    "\n",
    "    l=len(pep)*3\n",
    "    arr=[]\n",
    "    for i in range(len(dna)-l+1):\n",
    "        st=dna[i:i+l]\n",
    "        re_st=reverse_complement(st)\n",
    "        a=check(st, pep)\n",
    "        b=check(re_st, pep)\n",
    "        if(a):\n",
    "            arr.append(st)\n",
    "        if(b):\n",
    "            arr.append(st)\n",
    "    print('\\n'.join(arr))\n",
    "\n",
    "with open('dna_codons.txt') as f:\n",
    "    table=f.read().split()\n",
    "    codon=dict(zip(table[::2], table[1::2]))\n",
    "    #print(codon)\n",
    "    \n",
    "dna='ATGGCCATGGCCCCCAGAACTGAGATCAATAGTACCCGTATTAACGGGTGA'\n",
    "pep='MA'\n",
    "dna_to_amino_acid(dna, pep)"
   ]
  },
  {
   "cell_type": "markdown",
   "metadata": {},
   "source": [
    "# BA4C - Generate the Theoretical Spectrum of a Cyclic Peptide"
   ]
  },
  {
   "cell_type": "code",
   "execution_count": 1,
   "metadata": {},
   "outputs": [
    {
     "name": "stdout",
     "output_type": "stream",
     "text": [
      "{'A': 71, 'C': 103, 'D': 115, 'E': 129, 'F': 147, 'G': 57, 'H': 137, 'I': 113, 'K': 128, 'L': 113, 'M': 131, 'N': 114, 'P': 97, 'Q': 128, 'R': 156, 'S': 87, 'T': 101, 'V': 99, 'W': 186, 'Y': 163}\n"
     ]
    },
    {
     "data": {
      "text/plain": [
       "[0, 113, 114, 128, 129, 227, 242, 242, 257, 355, 356, 370, 371, 484]"
      ]
     },
     "execution_count": 1,
     "metadata": {},
     "output_type": "execute_result"
    }
   ],
   "source": [
    "import pandas as pd\n",
    "\n",
    "def theoretical_spectrum(pep):\n",
    "    \n",
    "    st=''\n",
    "    arr=[]\n",
    "    arr.append(pep)\n",
    "    l=len(pep)\n",
    "    pep=pep+pep\n",
    "    for i in range(l):\n",
    "        for j in range(l):\n",
    "            st=pep[j:j+i]\n",
    "            arr.append(st)\n",
    "    arr=set(arr)\n",
    "    theoretical_spectrum=[]\n",
    "    for st in arr:\n",
    "        m=0\n",
    "        for i in st:\n",
    "            m+=mass[i]\n",
    "        theoretical_spectrum.append(m)\n",
    "    return sorted(theoretical_spectrum)\n",
    "    \n",
    "df=pd.read_csv('integer_mass_table.txt', header=None, delim_whitespace=True)\n",
    "mass=dict(zip(df[0], df[1]))\n",
    "print(mass)          \n",
    "\n",
    "pep='LEQN'\n",
    "theoretical_spectrum(pep)"
   ]
  },
  {
   "cell_type": "markdown",
   "metadata": {},
   "source": [
    "# BA4F - Compute the Score of a Cyclic Peptide Against a Spectrum"
   ]
  },
  {
   "cell_type": "code",
   "execution_count": 4,
   "metadata": {},
   "outputs": [
    {
     "data": {
      "text/plain": [
       "11"
      ]
     },
     "execution_count": 4,
     "metadata": {},
     "output_type": "execute_result"
    }
   ],
   "source": [
    "import pandas as pd\n",
    "\n",
    "def theoretical_spectrum(pep):\n",
    "    \n",
    "    st=''\n",
    "    arr=[]\n",
    "    arr.append(pep)\n",
    "    l=len(pep)\n",
    "    pep=pep+pep\n",
    "    for i in range(l):\n",
    "        for j in range(l):\n",
    "            st=pep[j:j+i]\n",
    "            arr.append(st)\n",
    "    arr=set(arr)\n",
    "    theoretical_spectrum=[]\n",
    "    for st in arr:\n",
    "        m=0\n",
    "        for i in st:\n",
    "            m+=mass[i]\n",
    "        theoretical_spectrum.append(m)\n",
    "    mark=[0 for i in range(1000000)]\n",
    "    count=0\n",
    "    for i in theoretical_spectrum:\n",
    "        for j in experimental_spectrum:\n",
    "            if(i==j and mark[j]==0):\n",
    "                count+=1\n",
    "                mark[j]=1\n",
    "                break\n",
    "    return count\n",
    "    \n",
    "df=pd.read_csv('integer_mass_table.txt', header=None, delim_whitespace=True)\n",
    "mass=dict(zip(df[0], df[1]))        \n",
    "\n",
    "pep='NQEL'\n",
    "experimental_spectrum=[0, 99, 113, 114, 128, 227, 257, 299, 355, 356, 370, 371, 484]\n",
    "theoretical_spectrum(pep)"
   ]
  },
  {
   "cell_type": "markdown",
   "metadata": {},
   "source": [
    "# BA5A - Find the Minimum Number of Coins Needed to Make Change"
   ]
  },
  {
   "cell_type": "code",
   "execution_count": 10,
   "metadata": {},
   "outputs": [
    {
     "data": {
      "text/plain": [
       "2"
      ]
     },
     "execution_count": 10,
     "metadata": {},
     "output_type": "execute_result"
    }
   ],
   "source": [
    "def coin_change(make, coins):\n",
    "    dp=[100000000 for i in range(make+1)]\n",
    "    \n",
    "    dp[0]=0\n",
    "    for i in range(len(coins)):\n",
    "        for j in range(coins[i], make+1):\n",
    "            dp[j]=min(dp[j], dp[j-coins[i]]+1)\n",
    "    \n",
    "    return dp[make]\n",
    "    \n",
    "make=40\n",
    "coins=[1,5,10,20,25,50]\n",
    "coin_change(make, coins)"
   ]
  },
  {
   "cell_type": "markdown",
   "metadata": {},
   "source": [
    "# BA5C - Find a Longest Common Subsequence of Two Strings"
   ]
  },
  {
   "cell_type": "code",
   "execution_count": 32,
   "metadata": {},
   "outputs": [
    {
     "data": {
      "text/plain": [
       "'ACCTGG'"
      ]
     },
     "execution_count": 32,
     "metadata": {},
     "output_type": "execute_result"
    }
   ],
   "source": [
    "from pandas import *\n",
    "def LCS(str1, str2):\n",
    "    str1='#'+str1\n",
    "    str2='#'+str2\n",
    "    \n",
    "    l1=len(str1)\n",
    "    l2=len(str2)\n",
    "    \n",
    "    dp=[[0 for i in range(l1+10)] for j in range(l2+10)]\n",
    "    path=[[0 for i in range(l1+10)] for j in range(l2+10)]\n",
    "    for i in range(l1):\n",
    "        for j in range(l2):\n",
    "            if i==0 and j==0:\n",
    "                continue\n",
    "            if(str1[i]==str2[j]):\n",
    "                dp[i][j]=dp[i-1][j-1]+1\n",
    "                path[i][j]=1\n",
    "            elif(dp[i-1][j]>dp[i][j-1]):\n",
    "                dp[i][j]=dp[i-1][j]\n",
    "                path[i][j]=2\n",
    "            else:\n",
    "                dp[i][j]=dp[i][j-1]\n",
    "                path[i][j]=3\n",
    "                \n",
    "    i=l1-1\n",
    "    j=l2-1\n",
    "    s=''\n",
    "    while(i>=0 and j>=0):\n",
    "        if(path[i][j]==1):\n",
    "            s+=str1[i]\n",
    "            i=i-1\n",
    "            j=j-1\n",
    "        elif(path[i][j]==2):\n",
    "            if(i==0):\n",
    "                break\n",
    "            i=i-1\n",
    "        elif(path[i][j]==3):\n",
    "            if(j==0):\n",
    "                break\n",
    "            j=j-1\n",
    "    return s[::-1]\n",
    "    \n",
    "str1='AACCTTGG'\n",
    "str2='ACACTGTGA'\n",
    "LCS(str1, str2)"
   ]
  },
  {
   "cell_type": "code",
   "execution_count": null,
   "metadata": {},
   "outputs": [],
   "source": []
  }
 ],
 "metadata": {
  "kernelspec": {
   "display_name": "Python 3",
   "language": "python",
   "name": "python3"
  },
  "language_info": {
   "codemirror_mode": {
    "name": "ipython",
    "version": 3
   },
   "file_extension": ".py",
   "mimetype": "text/x-python",
   "name": "python",
   "nbconvert_exporter": "python",
   "pygments_lexer": "ipython3",
   "version": "3.7.1"
  }
 },
 "nbformat": 4,
 "nbformat_minor": 2
}
