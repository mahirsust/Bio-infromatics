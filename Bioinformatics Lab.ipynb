{
 "cells": [
  {
   "cell_type": "markdown",
   "metadata": {},
   "source": [
    "# 1st Lab(18-09-2019)"
   ]
  },
  {
   "cell_type": "markdown",
   "metadata": {},
   "source": [
    "# BA1C - Find the Reverse Complement of a String"
   ]
  },
  {
   "cell_type": "code",
   "execution_count": 4,
   "metadata": {},
   "outputs": [
    {
     "name": "stdout",
     "output_type": "stream",
     "text": [
      "TTTAACTGCGTA"
     ]
    }
   ],
   "source": [
    "def rev_complement(dna):\n",
    "    rev_dna=[]\n",
    "    for i in range(len(dna)):\n",
    "        if dna[i]=='A':\n",
    "            rev_dna.append('T')\n",
    "        elif dna[i]=='C':\n",
    "            rev_dna.append('G')\n",
    "        elif dna[i]=='G':\n",
    "            rev_dna.append('C')\n",
    "        elif dna[i]=='T':\n",
    "            rev_dna.append('A')\n",
    "    \n",
    "    for i in rev_dna:\n",
    "        print(i, end='')\n",
    "    \n",
    "dna=\"AAATTGACGCAT\"\n",
    "rev_complement(dna)"
   ]
  },
  {
   "cell_type": "markdown",
   "metadata": {},
   "source": [
    "# 2nd Lab(25.09.2019)"
   ]
  },
  {
   "cell_type": "markdown",
   "metadata": {},
   "source": [
    "# Task 01 - Random DNA"
   ]
  },
  {
   "cell_type": "code",
   "execution_count": 6,
   "metadata": {},
   "outputs": [
    {
     "data": {
      "text/plain": [
       "'ACTACGTGGA'"
      ]
     },
     "execution_count": 6,
     "metadata": {},
     "output_type": "execute_result"
    }
   ],
   "source": [
    "import random\n",
    "\n",
    "def randomDNA(length):\n",
    "    \n",
    "    return (''.join(random.choice('ATCG') for _ in range(length)))\n",
    "\n",
    "randomDNA(10)"
   ]
  },
  {
   "cell_type": "markdown",
   "metadata": {},
   "source": [
    "# Task 02 - BA1C"
   ]
  },
  {
   "cell_type": "code",
   "execution_count": 16,
   "metadata": {},
   "outputs": [
    {
     "data": {
      "text/plain": [
       "'ACCGGGTTTT'"
      ]
     },
     "execution_count": 16,
     "metadata": {},
     "output_type": "execute_result"
    }
   ],
   "source": [
    "def rev_complement(dna):\n",
    "    reverse_mapping={'A':'T', 'T':'A', 'C':'G', 'G':'C'}\n",
    "    s=''\n",
    "    \n",
    "    for i in range(len(dna)-1,-1,-1):# loop of dna in reverse\n",
    "        s+=reverse_mapping[dna[i]] #map of dna[i] or complement\n",
    "    \n",
    "    return s #the reverse complement string\n",
    "    \n",
    "rev_complement('AAAACCCGGT')"
   ]
  },
  {
   "cell_type": "markdown",
   "metadata": {},
   "source": [
    "# Task 03 - BA1A"
   ]
  },
  {
   "cell_type": "code",
   "execution_count": 5,
   "metadata": {},
   "outputs": [
    {
     "data": {
      "text/plain": [
       "2"
      ]
     },
     "execution_count": 5,
     "metadata": {},
     "output_type": "execute_result"
    }
   ],
   "source": [
    "def pattern_occurance(dna, pattern):\n",
    "    \n",
    "    k=len(pattern)\n",
    "    count=0\n",
    "    for i in range(len(dna)-k+1): #len(dna)=5, k=3, loop = 0 to (5-3+1)\n",
    "        s=dna[i:i+k] #portion of dna, size like pattern\n",
    "        #print(i) #index of loop\n",
    "        #print(s) #string of dna, size like pattern\n",
    "        if s==pattern:\n",
    "            count=count+1\n",
    "    return count\n",
    "pattern_occurance('GCGCG', 'GCG')"
   ]
  },
  {
   "cell_type": "markdown",
   "metadata": {},
   "source": [
    "# Task 04 - BA1D"
   ]
  },
  {
   "cell_type": "code",
   "execution_count": 34,
   "metadata": {},
   "outputs": [],
   "source": [
    "def pattern_occurance(pattern, genome):\n",
    "    \n",
    "    k=len(pattern)\n",
    "    count=0\n",
    "    for i in range(len(genome)-k+1): #len(genome)=17, k=4, loop = 0 to (17-4+1)\n",
    "        s=genome[i:i+k] #portion of genome, size like pattern\n",
    "        #print(i) #index of loop\n",
    "        #print(s) #string of genome, size like pattern\n",
    "        if s==pattern:\n",
    "            print(i, end=' ')\n",
    "            \n",
    "pattern_occurance('TCTAACCTC', 'GATATATGCATATACTT')"
   ]
  },
  {
   "cell_type": "markdown",
   "metadata": {},
   "source": [
    "# Task 04 - BA1B"
   ]
  },
  {
   "cell_type": "code",
   "execution_count": 71,
   "metadata": {},
   "outputs": [
    {
     "name": "stdout",
     "output_type": "stream",
     "text": [
      "AGATACCAACAG "
     ]
    }
   ],
   "source": [
    "def most_frequent_word_occurance(dna, k):\n",
    "    \n",
    "    d={}\n",
    "    max_count=0\n",
    "    for i in range(len(dna)-k+1): #len(genome)=17, k=4, loop = 0 to (17-4+1)\n",
    "        s=dna[i:i+k] #portion of genome, size like pattern\n",
    "        #print(i) #index of loop\n",
    "        #print(s) #string of genome, size like pattern\n",
    "        count=0\n",
    "        for j in range(len(dna)-k+1):\n",
    "            if s==dna[j:j+k]:\n",
    "                d[s]=0\n",
    "                count=count+1\n",
    "        if max_count<count:\n",
    "            max_count=count\n",
    "    \n",
    "    for i in range(len(dna)-k+1): #len(genome)=17, k=4, loop = 0 to (17-4+1)\n",
    "        s=dna[i:i+k] #portion of genome, size like pattern\n",
    "        #print(i) #index of loop\n",
    "        #print(s) #string of genome, size like pattern\n",
    "        count=0\n",
    "        for j in range(len(dna)-k+1):\n",
    "            if s==dna[j:j+k]:\n",
    "                count=count+1\n",
    "        if max_count==count and d[s]==0:\n",
    "            d[s]=1\n",
    "            print(s, end=' ')  \n",
    "            \n",
    "most_frequent_word_occurance('ACGTTGCATGTCGCATGATGCATGAGAGCT', 4)"
   ]
  },
  {
   "cell_type": "markdown",
   "metadata": {},
   "source": [
    "# 3rd Lab(16.10.2019)"
   ]
  },
  {
   "cell_type": "markdown",
   "metadata": {},
   "source": [
    "# BA1F"
   ]
  },
  {
   "cell_type": "code",
   "execution_count": 1,
   "metadata": {},
   "outputs": [
    {
     "name": "stdout",
     "output_type": "stream",
     "text": [
      "53\n",
      "97\n"
     ]
    },
    {
     "data": {
      "text/plain": [
       "<Figure size 640x480 with 1 Axes>"
      ]
     },
     "metadata": {},
     "output_type": "display_data"
    }
   ],
   "source": [
    "import matplotlib.pyplot as plt\n",
    "\n",
    "def skew_diagram(dna):\n",
    "    min_diff=1000\n",
    "    diff=0\n",
    "    g_count=0\n",
    "    c_count=0\n",
    "    arr=[]\n",
    "    for i in range(len(dna)):\n",
    "        if(dna[i]=='G'):\n",
    "            g_count=g_count+1\n",
    "        elif(dna[i]=='C'):\n",
    "            c_count=c_count+1\n",
    "        diff=g_count-c_count\n",
    "        if(diff<min_diff):\n",
    "            min_diff=diff\n",
    "        arr.append(diff)\n",
    "    \n",
    "    g_count=0\n",
    "    c_count=0\n",
    "    for i in range(len(dna)):\n",
    "        if(dna[i]=='G'):\n",
    "            g_count=g_count+1\n",
    "        elif(dna[i]=='C'):\n",
    "            c_count=c_count+1\n",
    "        diff=g_count-c_count\n",
    "        if(diff==min_diff):\n",
    "            print(i+1)\n",
    "    plt.plot(arr)\n",
    "    plt.show()\n",
    "dna=\"CCTATCGGTGGATTAGCATGTCCCTGTACGTTTCGCCGCGAACTAGTTCACACGGCTTGATGGCAAATGGTTTTTCCGGCGACCGTAATCGTCCACCGAG\"\n",
    "skew_diagram(dna)"
   ]
  },
  {
   "cell_type": "markdown",
   "metadata": {},
   "source": [
    "# BA1K"
   ]
  },
  {
   "cell_type": "code",
   "execution_count": 23,
   "metadata": {},
   "outputs": [
    {
     "name": "stdout",
     "output_type": "stream",
     "text": [
      "AA\n",
      "AC\n",
      "AG\n",
      "AT\n",
      "CA\n",
      "CC\n",
      "CG\n",
      "CT\n",
      "GA\n",
      "GC\n",
      "GG\n",
      "GT\n",
      "TA\n",
      "TC\n",
      "TG\n",
      "TT\n",
      "2 1 0 0 0 0 2 2 1 2 1 0 0 1 1 0 "
     ]
    }
   ],
   "source": [
    "import itertools\n",
    "\n",
    "def frequency_array_of_a_string(dna, k):\n",
    "    str1=\"ACGT\"\n",
    "    arr=[]\n",
    "    for i in itertools.product(str1, repeat=k):\n",
    "        p=''.join(i)\n",
    "        arr.append(p)\n",
    "        print(p) #all pair k-mer\n",
    "    for i in arr:\n",
    "        count=0\n",
    "        for j in range(len(dna)-k+1):\n",
    "            str2=dna[j:j+k] #substring of dna length = k\n",
    "            if(i==str2):\n",
    "                count=count+1\n",
    "        print(count, end=' ')\n",
    "    \n",
    "dna='ACGCGGCTCTGAAA'\n",
    "k=2\n",
    "frequency_array_of_a_string(dna, k)"
   ]
  },
  {
   "cell_type": "markdown",
   "metadata": {},
   "source": [
    "# BA1L"
   ]
  },
  {
   "cell_type": "code",
   "execution_count": 35,
   "metadata": {},
   "outputs": [
    {
     "name": "stdout",
     "output_type": "stream",
     "text": [
      "11\n"
     ]
    }
   ],
   "source": [
    "import itertools\n",
    "\n",
    "def ImplementPatternToNumber(dna):\n",
    "    k=len(dna)\n",
    "    str1=\"ACGT\"\n",
    "    count=0\n",
    "    for i in itertools.product(str1, repeat=k):\n",
    "        p=''.join(i)\n",
    "        #print(p) #all pair k-mer\n",
    "        if(p==dna):\n",
    "            print(count)\n",
    "            break\n",
    "        count=count+1\n",
    "        \n",
    "    \n",
    "dna='AGT'\n",
    "ImplementPatternToNumber(dna)"
   ]
  },
  {
   "cell_type": "markdown",
   "metadata": {},
   "source": [
    "# BA1M"
   ]
  },
  {
   "cell_type": "code",
   "execution_count": 36,
   "metadata": {},
   "outputs": [
    {
     "name": "stdout",
     "output_type": "stream",
     "text": [
      "AGTC\n"
     ]
    }
   ],
   "source": [
    "import itertools\n",
    "def ImplementNumberToPattern(index, k):\n",
    "    \n",
    "    str1=\"ACGT\"\n",
    "    count=0\n",
    "    for i in itertools.product(str1, repeat=k):\n",
    "        p=''.join(i)\n",
    "        #print(p) #all pair k-mer\n",
    "        if(count==index):\n",
    "            print(p)\n",
    "            break\n",
    "        count=count+1\n",
    "    \n",
    "index=45\n",
    "k=4\n",
    "ImplementNumberToPattern(index, k)"
   ]
  },
  {
   "cell_type": "markdown",
   "metadata": {},
   "source": [
    "# 4th Lab(30.10.2019)"
   ]
  },
  {
   "cell_type": "markdown",
   "metadata": {},
   "source": [
    "# BA2A"
   ]
  },
  {
   "cell_type": "code",
   "execution_count": 24,
   "metadata": {},
   "outputs": [
    {
     "name": "stdout",
     "output_type": "stream",
     "text": [
      "CAATT CCATT CGATT CTATT "
     ]
    },
    {
     "data": {
      "text/plain": [
       "['CAATT', 'CCATT', 'CGATT', 'CTATT']"
      ]
     },
     "execution_count": 24,
     "metadata": {},
     "output_type": "execute_result"
    }
   ],
   "source": [
    "import itertools\n",
    "\n",
    "def Hamming_Distance(str, kmer):\n",
    "    \n",
    "    count=0\n",
    "    for i in range(0, len(str)):\n",
    "        if(str[i]!=kmer[i]):\n",
    "            count=count+1\n",
    "    return count\n",
    "\n",
    "def MOTIF_ENUMERATION(DNA, k, d):\n",
    "    \n",
    "    str='ACGT'\n",
    "    list=[]\n",
    "    ans=[]\n",
    "    for i in itertools.product(str, repeat=k):\n",
    "        list.append(''.join(i)) # All pair k-mer\n",
    "    \n",
    "    for i in list:\n",
    "        count=0\n",
    "        for str in DNA:\n",
    "            for j in range(len(str)-k+1):\n",
    "                # find hamming distance for each combination of kmer to each substring of each dna\n",
    "                if(Hamming_Distance(str[j:j+k], i)<=d):\n",
    "                    count=count+1\n",
    "                    break\n",
    "        if(count==10): # if the condition of d-mismatch satisfy for each of the DNA\n",
    "            ans.append(i)\n",
    "            print(i, end=' ')\n",
    "    return ans       \n",
    "\n",
    "DNA=['TGCTGAAGTGATTTGGAAGACAATT', 'GTAATCACCGCCGATCAATTCCATG', 'CTAGAATATTGAAGCCCATTTGCCC', 'CATTGCAATTTTAGAGGAGGTTATC', 'CGATTTCTGTCCACGAGTAAATCCT', 'CTATTAACCGGAGCACCTGTCAATG', 'AGTAACTATTCTATTGGAAAAAATT', 'AGGTCCGATTACCGAAGATCCCCGC', 'CCGCTAAACCCCATTTTTATATCAC', 'GTCGTCTATTTCTGGATGTTCATAA']\n",
    "k=5\n",
    "d=1\n",
    "#Hamming_Distance('ATA', 'ATT')\n",
    "MOTIF_ENUMERATION(DNA, k, d)"
   ]
  }
 ],
 "metadata": {
  "kernelspec": {
   "display_name": "Python 3",
   "language": "python",
   "name": "python3"
  },
  "language_info": {
   "codemirror_mode": {
    "name": "ipython",
    "version": 3
   },
   "file_extension": ".py",
   "mimetype": "text/x-python",
   "name": "python",
   "nbconvert_exporter": "python",
   "pygments_lexer": "ipython3",
   "version": "3.7.1"
  }
 },
 "nbformat": 4,
 "nbformat_minor": 2
}
